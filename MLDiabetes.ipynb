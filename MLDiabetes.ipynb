{
  "nbformat": 4,
  "nbformat_minor": 0,
  "metadata": {
    "colab": {
      "provenance": [],
      "include_colab_link": true
    },
    "kernelspec": {
      "name": "python3",
      "display_name": "Python 3"
    },
    "language_info": {
      "name": "python"
    }
  },
  "cells": [
    {
      "cell_type": "markdown",
      "metadata": {
        "id": "view-in-github",
        "colab_type": "text"
      },
      "source": [
        "<a href=\"https://colab.research.google.com/github/LanucciG/ml_diabetes/blob/main/MLDiabetes.ipynb\" target=\"_parent\"><img src=\"https://colab.research.google.com/assets/colab-badge.svg\" alt=\"Open In Colab\"/></a>"
      ]
    },
    {
      "cell_type": "markdown",
      "source": [
        "### Desafio 1\n",
        "\n",
        "Faça a leitura da base de dados de diabetes e realize a divisão dos dados em variáveis explicativas e variável alvo (x e y)."
      ],
      "metadata": {
        "id": "XXpTDkQmqgGT"
      }
    },
    {
      "cell_type": "code",
      "source": [
        "import pandas as pd\n",
        "\n",
        "# Carrega o dataset\n",
        "url = \"https://raw.githubusercontent.com/LanucciG/ml_diabetes/main/diabetes.csv\"\n",
        "df = pd.read_csv(url)\n",
        "df"
      ],
      "metadata": {
        "id": "o-clr688LDl2",
        "colab": {
          "base_uri": "https://localhost:8080/",
          "height": 423
        },
        "outputId": "573d2078-0ebc-463f-fc29-ee21f70e67a3"
      },
      "execution_count": 34,
      "outputs": [
        {
          "output_type": "execute_result",
          "data": {
            "text/plain": [
              "     glicemia  pressao_sanguinea  dobra_cutane_triceps  insulina      imc  \\\n",
              "0          66                 23                    94      28.1  167.000   \n",
              "1          40                 35                   168      43.1    2.288   \n",
              "2          50                 32                    88      31.0  248.000   \n",
              "3          70                 45                   543      30.5  158.000   \n",
              "4          60                 23                   846      30.1  398.000   \n",
              "..        ...                ...                   ...       ...      ...   \n",
              "389        88                 44                   510      43.3  222.000   \n",
              "390        88                 39                   110      36.5    1.057   \n",
              "391        58                 26                    16      28.4  766.000   \n",
              "392        76                 48                   180      32.9  171.000   \n",
              "393        72                 23                   112      26.2  245.000   \n",
              "\n",
              "     diabetes  \n",
              "0           0  \n",
              "1           1  \n",
              "2           1  \n",
              "3           1  \n",
              "4           1  \n",
              "..        ...  \n",
              "389         1  \n",
              "390         1  \n",
              "391         0  \n",
              "392         0  \n",
              "393         0  \n",
              "\n",
              "[394 rows x 6 columns]"
            ],
            "text/html": [
              "\n",
              "  <div id=\"df-0635ab80-f4a4-4a9e-afe0-9ab9b0f22933\" class=\"colab-df-container\">\n",
              "    <div>\n",
              "<style scoped>\n",
              "    .dataframe tbody tr th:only-of-type {\n",
              "        vertical-align: middle;\n",
              "    }\n",
              "\n",
              "    .dataframe tbody tr th {\n",
              "        vertical-align: top;\n",
              "    }\n",
              "\n",
              "    .dataframe thead th {\n",
              "        text-align: right;\n",
              "    }\n",
              "</style>\n",
              "<table border=\"1\" class=\"dataframe\">\n",
              "  <thead>\n",
              "    <tr style=\"text-align: right;\">\n",
              "      <th></th>\n",
              "      <th>glicemia</th>\n",
              "      <th>pressao_sanguinea</th>\n",
              "      <th>dobra_cutane_triceps</th>\n",
              "      <th>insulina</th>\n",
              "      <th>imc</th>\n",
              "      <th>diabetes</th>\n",
              "    </tr>\n",
              "  </thead>\n",
              "  <tbody>\n",
              "    <tr>\n",
              "      <th>0</th>\n",
              "      <td>66</td>\n",
              "      <td>23</td>\n",
              "      <td>94</td>\n",
              "      <td>28.1</td>\n",
              "      <td>167.000</td>\n",
              "      <td>0</td>\n",
              "    </tr>\n",
              "    <tr>\n",
              "      <th>1</th>\n",
              "      <td>40</td>\n",
              "      <td>35</td>\n",
              "      <td>168</td>\n",
              "      <td>43.1</td>\n",
              "      <td>2.288</td>\n",
              "      <td>1</td>\n",
              "    </tr>\n",
              "    <tr>\n",
              "      <th>2</th>\n",
              "      <td>50</td>\n",
              "      <td>32</td>\n",
              "      <td>88</td>\n",
              "      <td>31.0</td>\n",
              "      <td>248.000</td>\n",
              "      <td>1</td>\n",
              "    </tr>\n",
              "    <tr>\n",
              "      <th>3</th>\n",
              "      <td>70</td>\n",
              "      <td>45</td>\n",
              "      <td>543</td>\n",
              "      <td>30.5</td>\n",
              "      <td>158.000</td>\n",
              "      <td>1</td>\n",
              "    </tr>\n",
              "    <tr>\n",
              "      <th>4</th>\n",
              "      <td>60</td>\n",
              "      <td>23</td>\n",
              "      <td>846</td>\n",
              "      <td>30.1</td>\n",
              "      <td>398.000</td>\n",
              "      <td>1</td>\n",
              "    </tr>\n",
              "    <tr>\n",
              "      <th>...</th>\n",
              "      <td>...</td>\n",
              "      <td>...</td>\n",
              "      <td>...</td>\n",
              "      <td>...</td>\n",
              "      <td>...</td>\n",
              "      <td>...</td>\n",
              "    </tr>\n",
              "    <tr>\n",
              "      <th>389</th>\n",
              "      <td>88</td>\n",
              "      <td>44</td>\n",
              "      <td>510</td>\n",
              "      <td>43.3</td>\n",
              "      <td>222.000</td>\n",
              "      <td>1</td>\n",
              "    </tr>\n",
              "    <tr>\n",
              "      <th>390</th>\n",
              "      <td>88</td>\n",
              "      <td>39</td>\n",
              "      <td>110</td>\n",
              "      <td>36.5</td>\n",
              "      <td>1.057</td>\n",
              "      <td>1</td>\n",
              "    </tr>\n",
              "    <tr>\n",
              "      <th>391</th>\n",
              "      <td>58</td>\n",
              "      <td>26</td>\n",
              "      <td>16</td>\n",
              "      <td>28.4</td>\n",
              "      <td>766.000</td>\n",
              "      <td>0</td>\n",
              "    </tr>\n",
              "    <tr>\n",
              "      <th>392</th>\n",
              "      <td>76</td>\n",
              "      <td>48</td>\n",
              "      <td>180</td>\n",
              "      <td>32.9</td>\n",
              "      <td>171.000</td>\n",
              "      <td>0</td>\n",
              "    </tr>\n",
              "    <tr>\n",
              "      <th>393</th>\n",
              "      <td>72</td>\n",
              "      <td>23</td>\n",
              "      <td>112</td>\n",
              "      <td>26.2</td>\n",
              "      <td>245.000</td>\n",
              "      <td>0</td>\n",
              "    </tr>\n",
              "  </tbody>\n",
              "</table>\n",
              "<p>394 rows × 6 columns</p>\n",
              "</div>\n",
              "    <div class=\"colab-df-buttons\">\n",
              "\n",
              "  <div class=\"colab-df-container\">\n",
              "    <button class=\"colab-df-convert\" onclick=\"convertToInteractive('df-0635ab80-f4a4-4a9e-afe0-9ab9b0f22933')\"\n",
              "            title=\"Convert this dataframe to an interactive table.\"\n",
              "            style=\"display:none;\">\n",
              "\n",
              "  <svg xmlns=\"http://www.w3.org/2000/svg\" height=\"24px\" viewBox=\"0 -960 960 960\">\n",
              "    <path d=\"M120-120v-720h720v720H120Zm60-500h600v-160H180v160Zm220 220h160v-160H400v160Zm0 220h160v-160H400v160ZM180-400h160v-160H180v160Zm440 0h160v-160H620v160ZM180-180h160v-160H180v160Zm440 0h160v-160H620v160Z\"/>\n",
              "  </svg>\n",
              "    </button>\n",
              "\n",
              "  <style>\n",
              "    .colab-df-container {\n",
              "      display:flex;\n",
              "      gap: 12px;\n",
              "    }\n",
              "\n",
              "    .colab-df-convert {\n",
              "      background-color: #E8F0FE;\n",
              "      border: none;\n",
              "      border-radius: 50%;\n",
              "      cursor: pointer;\n",
              "      display: none;\n",
              "      fill: #1967D2;\n",
              "      height: 32px;\n",
              "      padding: 0 0 0 0;\n",
              "      width: 32px;\n",
              "    }\n",
              "\n",
              "    .colab-df-convert:hover {\n",
              "      background-color: #E2EBFA;\n",
              "      box-shadow: 0px 1px 2px rgba(60, 64, 67, 0.3), 0px 1px 3px 1px rgba(60, 64, 67, 0.15);\n",
              "      fill: #174EA6;\n",
              "    }\n",
              "\n",
              "    .colab-df-buttons div {\n",
              "      margin-bottom: 4px;\n",
              "    }\n",
              "\n",
              "    [theme=dark] .colab-df-convert {\n",
              "      background-color: #3B4455;\n",
              "      fill: #D2E3FC;\n",
              "    }\n",
              "\n",
              "    [theme=dark] .colab-df-convert:hover {\n",
              "      background-color: #434B5C;\n",
              "      box-shadow: 0px 1px 3px 1px rgba(0, 0, 0, 0.15);\n",
              "      filter: drop-shadow(0px 1px 2px rgba(0, 0, 0, 0.3));\n",
              "      fill: #FFFFFF;\n",
              "    }\n",
              "  </style>\n",
              "\n",
              "    <script>\n",
              "      const buttonEl =\n",
              "        document.querySelector('#df-0635ab80-f4a4-4a9e-afe0-9ab9b0f22933 button.colab-df-convert');\n",
              "      buttonEl.style.display =\n",
              "        google.colab.kernel.accessAllowed ? 'block' : 'none';\n",
              "\n",
              "      async function convertToInteractive(key) {\n",
              "        const element = document.querySelector('#df-0635ab80-f4a4-4a9e-afe0-9ab9b0f22933');\n",
              "        const dataTable =\n",
              "          await google.colab.kernel.invokeFunction('convertToInteractive',\n",
              "                                                    [key], {});\n",
              "        if (!dataTable) return;\n",
              "\n",
              "        const docLinkHtml = 'Like what you see? Visit the ' +\n",
              "          '<a target=\"_blank\" href=https://colab.research.google.com/notebooks/data_table.ipynb>data table notebook</a>'\n",
              "          + ' to learn more about interactive tables.';\n",
              "        element.innerHTML = '';\n",
              "        dataTable['output_type'] = 'display_data';\n",
              "        await google.colab.output.renderOutput(dataTable, element);\n",
              "        const docLink = document.createElement('div');\n",
              "        docLink.innerHTML = docLinkHtml;\n",
              "        element.appendChild(docLink);\n",
              "      }\n",
              "    </script>\n",
              "  </div>\n",
              "\n",
              "\n",
              "<div id=\"df-dce77922-069d-4a1d-a905-b30db71f9541\">\n",
              "  <button class=\"colab-df-quickchart\" onclick=\"quickchart('df-dce77922-069d-4a1d-a905-b30db71f9541')\"\n",
              "            title=\"Suggest charts\"\n",
              "            style=\"display:none;\">\n",
              "\n",
              "<svg xmlns=\"http://www.w3.org/2000/svg\" height=\"24px\"viewBox=\"0 0 24 24\"\n",
              "     width=\"24px\">\n",
              "    <g>\n",
              "        <path d=\"M19 3H5c-1.1 0-2 .9-2 2v14c0 1.1.9 2 2 2h14c1.1 0 2-.9 2-2V5c0-1.1-.9-2-2-2zM9 17H7v-7h2v7zm4 0h-2V7h2v10zm4 0h-2v-4h2v4z\"/>\n",
              "    </g>\n",
              "</svg>\n",
              "  </button>\n",
              "\n",
              "<style>\n",
              "  .colab-df-quickchart {\n",
              "      --bg-color: #E8F0FE;\n",
              "      --fill-color: #1967D2;\n",
              "      --hover-bg-color: #E2EBFA;\n",
              "      --hover-fill-color: #174EA6;\n",
              "      --disabled-fill-color: #AAA;\n",
              "      --disabled-bg-color: #DDD;\n",
              "  }\n",
              "\n",
              "  [theme=dark] .colab-df-quickchart {\n",
              "      --bg-color: #3B4455;\n",
              "      --fill-color: #D2E3FC;\n",
              "      --hover-bg-color: #434B5C;\n",
              "      --hover-fill-color: #FFFFFF;\n",
              "      --disabled-bg-color: #3B4455;\n",
              "      --disabled-fill-color: #666;\n",
              "  }\n",
              "\n",
              "  .colab-df-quickchart {\n",
              "    background-color: var(--bg-color);\n",
              "    border: none;\n",
              "    border-radius: 50%;\n",
              "    cursor: pointer;\n",
              "    display: none;\n",
              "    fill: var(--fill-color);\n",
              "    height: 32px;\n",
              "    padding: 0;\n",
              "    width: 32px;\n",
              "  }\n",
              "\n",
              "  .colab-df-quickchart:hover {\n",
              "    background-color: var(--hover-bg-color);\n",
              "    box-shadow: 0 1px 2px rgba(60, 64, 67, 0.3), 0 1px 3px 1px rgba(60, 64, 67, 0.15);\n",
              "    fill: var(--button-hover-fill-color);\n",
              "  }\n",
              "\n",
              "  .colab-df-quickchart-complete:disabled,\n",
              "  .colab-df-quickchart-complete:disabled:hover {\n",
              "    background-color: var(--disabled-bg-color);\n",
              "    fill: var(--disabled-fill-color);\n",
              "    box-shadow: none;\n",
              "  }\n",
              "\n",
              "  .colab-df-spinner {\n",
              "    border: 2px solid var(--fill-color);\n",
              "    border-color: transparent;\n",
              "    border-bottom-color: var(--fill-color);\n",
              "    animation:\n",
              "      spin 1s steps(1) infinite;\n",
              "  }\n",
              "\n",
              "  @keyframes spin {\n",
              "    0% {\n",
              "      border-color: transparent;\n",
              "      border-bottom-color: var(--fill-color);\n",
              "      border-left-color: var(--fill-color);\n",
              "    }\n",
              "    20% {\n",
              "      border-color: transparent;\n",
              "      border-left-color: var(--fill-color);\n",
              "      border-top-color: var(--fill-color);\n",
              "    }\n",
              "    30% {\n",
              "      border-color: transparent;\n",
              "      border-left-color: var(--fill-color);\n",
              "      border-top-color: var(--fill-color);\n",
              "      border-right-color: var(--fill-color);\n",
              "    }\n",
              "    40% {\n",
              "      border-color: transparent;\n",
              "      border-right-color: var(--fill-color);\n",
              "      border-top-color: var(--fill-color);\n",
              "    }\n",
              "    60% {\n",
              "      border-color: transparent;\n",
              "      border-right-color: var(--fill-color);\n",
              "    }\n",
              "    80% {\n",
              "      border-color: transparent;\n",
              "      border-right-color: var(--fill-color);\n",
              "      border-bottom-color: var(--fill-color);\n",
              "    }\n",
              "    90% {\n",
              "      border-color: transparent;\n",
              "      border-bottom-color: var(--fill-color);\n",
              "    }\n",
              "  }\n",
              "</style>\n",
              "\n",
              "  <script>\n",
              "    async function quickchart(key) {\n",
              "      const quickchartButtonEl =\n",
              "        document.querySelector('#' + key + ' button');\n",
              "      quickchartButtonEl.disabled = true;  // To prevent multiple clicks.\n",
              "      quickchartButtonEl.classList.add('colab-df-spinner');\n",
              "      try {\n",
              "        const charts = await google.colab.kernel.invokeFunction(\n",
              "            'suggestCharts', [key], {});\n",
              "      } catch (error) {\n",
              "        console.error('Error during call to suggestCharts:', error);\n",
              "      }\n",
              "      quickchartButtonEl.classList.remove('colab-df-spinner');\n",
              "      quickchartButtonEl.classList.add('colab-df-quickchart-complete');\n",
              "    }\n",
              "    (() => {\n",
              "      let quickchartButtonEl =\n",
              "        document.querySelector('#df-dce77922-069d-4a1d-a905-b30db71f9541 button');\n",
              "      quickchartButtonEl.style.display =\n",
              "        google.colab.kernel.accessAllowed ? 'block' : 'none';\n",
              "    })();\n",
              "  </script>\n",
              "</div>\n",
              "\n",
              "  <div id=\"id_9cf086dc-7911-419e-a1cd-d9c15e9198bb\">\n",
              "    <style>\n",
              "      .colab-df-generate {\n",
              "        background-color: #E8F0FE;\n",
              "        border: none;\n",
              "        border-radius: 50%;\n",
              "        cursor: pointer;\n",
              "        display: none;\n",
              "        fill: #1967D2;\n",
              "        height: 32px;\n",
              "        padding: 0 0 0 0;\n",
              "        width: 32px;\n",
              "      }\n",
              "\n",
              "      .colab-df-generate:hover {\n",
              "        background-color: #E2EBFA;\n",
              "        box-shadow: 0px 1px 2px rgba(60, 64, 67, 0.3), 0px 1px 3px 1px rgba(60, 64, 67, 0.15);\n",
              "        fill: #174EA6;\n",
              "      }\n",
              "\n",
              "      [theme=dark] .colab-df-generate {\n",
              "        background-color: #3B4455;\n",
              "        fill: #D2E3FC;\n",
              "      }\n",
              "\n",
              "      [theme=dark] .colab-df-generate:hover {\n",
              "        background-color: #434B5C;\n",
              "        box-shadow: 0px 1px 3px 1px rgba(0, 0, 0, 0.15);\n",
              "        filter: drop-shadow(0px 1px 2px rgba(0, 0, 0, 0.3));\n",
              "        fill: #FFFFFF;\n",
              "      }\n",
              "    </style>\n",
              "    <button class=\"colab-df-generate\" onclick=\"generateWithVariable('df')\"\n",
              "            title=\"Generate code using this dataframe.\"\n",
              "            style=\"display:none;\">\n",
              "\n",
              "  <svg xmlns=\"http://www.w3.org/2000/svg\" height=\"24px\"viewBox=\"0 0 24 24\"\n",
              "       width=\"24px\">\n",
              "    <path d=\"M7,19H8.4L18.45,9,17,7.55,7,17.6ZM5,21V16.75L18.45,3.32a2,2,0,0,1,2.83,0l1.4,1.43a1.91,1.91,0,0,1,.58,1.4,1.91,1.91,0,0,1-.58,1.4L9.25,21ZM18.45,9,17,7.55Zm-12,3A5.31,5.31,0,0,0,4.9,8.1,5.31,5.31,0,0,0,1,6.5,5.31,5.31,0,0,0,4.9,4.9,5.31,5.31,0,0,0,6.5,1,5.31,5.31,0,0,0,8.1,4.9,5.31,5.31,0,0,0,12,6.5,5.46,5.46,0,0,0,6.5,12Z\"/>\n",
              "  </svg>\n",
              "    </button>\n",
              "    <script>\n",
              "      (() => {\n",
              "      const buttonEl =\n",
              "        document.querySelector('#id_9cf086dc-7911-419e-a1cd-d9c15e9198bb button.colab-df-generate');\n",
              "      buttonEl.style.display =\n",
              "        google.colab.kernel.accessAllowed ? 'block' : 'none';\n",
              "\n",
              "      buttonEl.onclick = () => {\n",
              "        google.colab.notebook.generateWithVariable('df');\n",
              "      }\n",
              "      })();\n",
              "    </script>\n",
              "  </div>\n",
              "\n",
              "    </div>\n",
              "  </div>\n"
            ],
            "application/vnd.google.colaboratory.intrinsic+json": {
              "type": "dataframe",
              "variable_name": "df",
              "summary": "{\n  \"name\": \"df\",\n  \"rows\": 394,\n  \"fields\": [\n    {\n      \"column\": \"glicemia\",\n      \"properties\": {\n        \"dtype\": \"number\",\n        \"std\": 12,\n        \"min\": 24,\n        \"max\": 110,\n        \"num_unique_values\": 37,\n        \"samples\": [\n          68,\n          64,\n          60\n        ],\n        \"semantic_type\": \"\",\n        \"description\": \"\"\n      }\n    },\n    {\n      \"column\": \"pressao_sanguinea\",\n      \"properties\": {\n        \"dtype\": \"number\",\n        \"std\": 10,\n        \"min\": 7,\n        \"max\": 63,\n        \"num_unique_values\": 48,\n        \"samples\": [\n          51,\n          52,\n          18\n        ],\n        \"semantic_type\": \"\",\n        \"description\": \"\"\n      }\n    },\n    {\n      \"column\": \"dobra_cutane_triceps\",\n      \"properties\": {\n        \"dtype\": \"number\",\n        \"std\": 118,\n        \"min\": 14,\n        \"max\": 846,\n        \"num_unique_values\": 185,\n        \"samples\": [\n          240,\n          18,\n          274\n        ],\n        \"semantic_type\": \"\",\n        \"description\": \"\"\n      }\n    },\n    {\n      \"column\": \"insulina\",\n      \"properties\": {\n        \"dtype\": \"number\",\n        \"std\": 7.210160099590896,\n        \"min\": 0.0,\n        \"max\": 67.1,\n        \"num_unique_values\": 195,\n        \"samples\": [\n          42.1,\n          24.0,\n          46.1\n        ],\n        \"semantic_type\": \"\",\n        \"description\": \"\"\n      }\n    },\n    {\n      \"column\": \"imc\",\n      \"properties\": {\n        \"dtype\": \"number\",\n        \"std\": 263.89970301780517,\n        \"min\": 0.15,\n        \"max\": 997.0,\n        \"num_unique_values\": 332,\n        \"samples\": [\n          962.0,\n          251.0,\n          229.0\n        ],\n        \"semantic_type\": \"\",\n        \"description\": \"\"\n      }\n    },\n    {\n      \"column\": \"diabetes\",\n      \"properties\": {\n        \"dtype\": \"number\",\n        \"std\": 0,\n        \"min\": 0,\n        \"max\": 1,\n        \"num_unique_values\": 2,\n        \"samples\": [\n          1,\n          0\n        ],\n        \"semantic_type\": \"\",\n        \"description\": \"\"\n      }\n    }\n  ]\n}"
            }
          },
          "metadata": {},
          "execution_count": 34
        }
      ]
    },
    {
      "cell_type": "markdown",
      "source": [
        "### Desafio 2\n",
        "\n",
        "Realize a divisão dos dados entre treino e teste."
      ],
      "metadata": {
        "id": "dn6U1p70qw7p"
      }
    },
    {
      "cell_type": "code",
      "source": [
        "from sklearn.model_selection import train_test_split\n",
        "\n",
        "# Separando as variáveis explicativas (X) da variável alvo (y)\n",
        "x = df.drop('diabetes', axis=1)\n",
        "y = df['diabetes']\n",
        "\n",
        "SEED = 5\n",
        "\n",
        "# Dividindo os dados em conjuntos de treino e teste\n",
        "x_train, x_test, y_train, y_test = train_test_split(x, y, test_size=0.25, random_state=SEED)"
      ],
      "metadata": {
        "id": "Rt4zPm9ZZjpO"
      },
      "execution_count": 35,
      "outputs": []
    },
    {
      "cell_type": "markdown",
      "source": [
        "### Desafio 3\n",
        "\n",
        "Crie 2 modelos utilizando os algoritmos [DecisionTreeClassifier](https://scikit-learn.org/stable/modules/generated/sklearn.tree.DecisionTreeClassifier.html) e [RandomForestClassifer](https://scikit-learn.org/stable/modules/generated/sklearn.ensemble.RandomForestClassifier.html) e avalie a acurácia de treino e teste, escolhendo valores para o parâmetro `max_depth` para os modelos não se especializarem demais no padrão dos dados de treino."
      ],
      "metadata": {
        "id": "IcmuQBIyxHc8"
      }
    },
    {
      "cell_type": "code",
      "source": [
        "from sklearn.tree import DecisionTreeClassifier\n",
        "from sklearn.ensemble import RandomForestClassifier\n",
        "from sklearn.metrics import accuracy_score\n",
        "\n",
        "# Criando o modelo Decision Tree\n",
        "dtc = DecisionTreeClassifier(max_depth=5)\n",
        "dtc.fit(x_train, y_train)\n",
        "\n",
        "# Avaliando o modelo Decision Tree\n",
        "y_pred_train_dtc = dtc.predict(x_train)\n",
        "y_pred_test_dtc = dtc.predict(x_test)\n",
        "\n",
        "acc_train_dtc = accuracy_score(y_train, y_pred_train_dtc)\n",
        "acc_test_dtc = accuracy_score(y_test, y_pred_test_dtc)\n",
        "\n",
        "print(f'Acurácia de treino Decision Tree: {acc_train_dtc}')\n",
        "print(f'Acurácia de teste Decision Tree: {acc_test_dtc}')\n",
        "\n",
        "# Criando o modelo Random Forest\n",
        "rfc = RandomForestClassifier(max_depth=5)\n",
        "rfc.fit(x_train, y_train)\n",
        "\n",
        "# Avaliando o modelo Random Forest\n",
        "y_pred_train_rfc = rfc.predict(x_train)\n",
        "y_pred_test_rfc = rfc.predict(x_test)\n",
        "\n",
        "acc_train_rfc = accuracy_score(y_train, y_pred_train_rfc)\n",
        "acc_test_rfc = accuracy_score(y_test, y_pred_test_rfc)\n",
        "\n",
        "print(f'Acurácia de treino Random Forest: {acc_train_rfc}')\n",
        "print(f'Acurácia de teste Random Forest: {acc_test_rfc}')"
      ],
      "metadata": {
        "colab": {
          "base_uri": "https://localhost:8080/"
        },
        "id": "kltXhDdyZhnl",
        "outputId": "068f7a51-9c17-419c-84b9-59962aa8fbce"
      },
      "execution_count": 36,
      "outputs": [
        {
          "output_type": "stream",
          "name": "stdout",
          "text": [
            "Acurácia de treino Decision Tree: 0.8101694915254237\n",
            "Acurácia de teste Decision Tree: 0.6868686868686869\n",
            "Acurácia de treino Random Forest: 0.8610169491525423\n",
            "Acurácia de teste Random Forest: 0.7474747474747475\n"
          ]
        }
      ]
    },
    {
      "cell_type": "markdown",
      "source": [
        "### Desafio 4\n",
        "\n",
        "Construa uma matriz de confusão para cada um dos modelos para avaliar o desempenho das previsões."
      ],
      "metadata": {
        "id": "luUySRh5xNL1"
      }
    },
    {
      "cell_type": "code",
      "source": [
        "from sklearn.metrics import confusion_matrix\n",
        "\n",
        "# Matriz de confusão para Decision Tree\n",
        "cm_dtc = confusion_matrix(y_test, y_pred_test_dtc)\n",
        "print(\"Matriz de confusão - Decision Tree:\")\n",
        "print(cm_dtc)\n",
        "\n",
        "# Matriz de confusão para Random Forest\n",
        "cm_rfc = confusion_matrix(y_test, y_pred_test_rfc)\n",
        "print(\"\\nMatriz de confusão - Random Forest:\")\n",
        "print(cm_rfc)"
      ],
      "metadata": {
        "colab": {
          "base_uri": "https://localhost:8080/"
        },
        "id": "gosmYaQOZzMf",
        "outputId": "c323d51e-88cc-4775-ac9d-91948cae4237"
      },
      "execution_count": 37,
      "outputs": [
        {
          "output_type": "stream",
          "name": "stdout",
          "text": [
            "Matriz de confusão - Decision Tree:\n",
            "[[55 16]\n",
            " [15 13]]\n",
            "\n",
            "Matriz de confusão - Random Forest:\n",
            "[[59 12]\n",
            " [13 15]]\n"
          ]
        }
      ]
    },
    {
      "cell_type": "code",
      "source": [
        "import seaborn as sns\n",
        "import matplotlib.pyplot as plt\n",
        "\n",
        "# Matriz de confusão para Decision Tree\n",
        "plt.figure(figsize=(8, 6))\n",
        "sns.heatmap(cm_dtc, annot=True, fmt=\"d\", cmap=\"Blues\")\n",
        "plt.title(\"Matriz de Confusão - Decision Tree\")\n",
        "plt.xlabel(\"Previsões\")\n",
        "plt.ylabel(\"Valores Reais\")\n",
        "plt.show()\n",
        "\n",
        "# Matriz de confusão para Random Forest\n",
        "plt.figure(figsize=(8, 6))\n",
        "sns.heatmap(cm_rfc, annot=True, fmt=\"d\", cmap=\"Blues\")\n",
        "plt.title(\"Matriz de Confusão - Random Forest\")\n",
        "plt.xlabel(\"Previsões\")\n",
        "plt.ylabel(\"Valores Reais\")\n",
        "plt.show()\n"
      ],
      "metadata": {
        "colab": {
          "base_uri": "https://localhost:8080/",
          "height": 1000
        },
        "id": "_OuHmrlkZ2Tp",
        "outputId": "03953b34-ad9f-477b-ce63-543eec916d39"
      },
      "execution_count": 38,
      "outputs": [
        {
          "output_type": "display_data",
          "data": {
            "text/plain": [
              "<Figure size 800x600 with 2 Axes>"
            ],
            "image/png": "[encoded data removed]"
          },
          "metadata": {}
        },
        {
          "output_type": "display_data",
          "data": {
            "text/plain": [
              "<Figure size 800x600 with 2 Axes>"
            ],
            "image/png": "[encoded data removed]"
          },
          "metadata": {}
        }
      ]
    },
    {
      "cell_type": "markdown",
      "source": [
        "### Desafio 5\n",
        "\n",
        "Extraia as métricas acurácia, recall, precisão e F1-Score dos modelos de classificação gerados"
      ],
      "metadata": {
        "id": "j3gbWXPaZ6b_"
      }
    },
    {
      "cell_type": "code",
      "source": [
        "from sklearn.metrics import classification_report\n",
        "\n",
        "# Relatório de classificação para Decision Tree\n",
        "print(\"Relatório de Classificação - Decision Tree:\")\n",
        "print(classification_report(y_test, y_pred_test_dtc))\n",
        "\n",
        "# Relatório de classificação para Random Forest\n",
        "print(\"\\nRelatório de Classificação - Random Forest:\")\n",
        "print(classification_report(y_test, y_pred_test_rfc))\n"
      ],
      "metadata": {
        "id": "b-TqlLAeaKNH",
        "colab": {
          "base_uri": "https://localhost:8080/"
        },
        "outputId": "a0870e28-2048-4ab8-8209-cf1508600b71"
      },
      "execution_count": 39,
      "outputs": [
        {
          "output_type": "stream",
          "name": "stdout",
          "text": [
            "Relatório de Classificação - Decision Tree:\n",
            "              precision    recall  f1-score   support\n",
            "\n",
            "           0       0.79      0.77      0.78        71\n",
            "           1       0.45      0.46      0.46        28\n",
            "\n",
            "    accuracy                           0.69        99\n",
            "   macro avg       0.62      0.62      0.62        99\n",
            "weighted avg       0.69      0.69      0.69        99\n",
            "\n",
            "\n",
            "Relatório de Classificação - Random Forest:\n",
            "              precision    recall  f1-score   support\n",
            "\n",
            "           0       0.82      0.83      0.83        71\n",
            "           1       0.56      0.54      0.55        28\n",
            "\n",
            "    accuracy                           0.75        99\n",
            "   macro avg       0.69      0.68      0.69        99\n",
            "weighted avg       0.74      0.75      0.75        99\n",
            "\n"
          ]
        }
      ]
    },
    {
      "cell_type": "markdown",
      "source": [
        "### Desafio 6\n",
        "\n",
        "Obtenha a curva ROC e a métrica AUC dos modelos de classificação gerados no desafio da aula 1, comparando as curvas no mesmo gráfico.\n",
        "\n",
        "*Como uma dica, vasculhe a documentação do `Scikit-learn` a partir deste [link](https://scikit-learn.org/stable/auto_examples/release_highlights/plot_release_highlights_0_22_0.html#new-plotting-api) e verifique uma forma de apresentar os resultados das curvas no mesmo gráfico usando o matplotlib*"
      ],
      "metadata": {
        "id": "Iy6nX8iQZ_JJ"
      }
    },
    {
      "cell_type": "code",
      "source": [
        "import matplotlib.pyplot as plt\n",
        "from sklearn.metrics import roc_curve, auc\n",
        "\n",
        "# Obter as probabilidades das previsões para a classe positiva\n",
        "y_pred_proba_dtc = dtc.predict_proba(x_test)[:, 1]\n",
        "y_pred_proba_rfc = rfc.predict_proba(x_test)[:, 1]\n",
        "\n",
        "# Calcular a curva ROC e a AUC para Decision Tree\n",
        "fpr_dtc, tpr_dtc, thresholds_dtc = roc_curve(y_test, y_pred_proba_dtc)\n",
        "roc_auc_dtc = auc(fpr_dtc, tpr_dtc)\n",
        "\n",
        "# Calcular a curva ROC e a AUC para Random Forest\n",
        "fpr_rfc, tpr_rfc, thresholds_rfc = roc_curve(y_test, y_pred_proba_rfc)\n",
        "roc_auc_rfc = auc(fpr_rfc, tpr_rfc)\n",
        "\n",
        "# Plotar as curvas ROC\n",
        "plt.figure()\n",
        "plt.plot(fpr_dtc, tpr_dtc, color='darkorange', lw=2, label='Decision Tree (AUC = %0.2f)' % roc_auc_dtc)\n",
        "plt.plot(fpr_rfc, tpr_rfc, color='darkgreen', lw=2, label='Random Forest (AUC = %0.2f)' % roc_auc_rfc)\n",
        "plt.plot([0, 1], [0, 1], color='navy', lw=2, linestyle='--')\n",
        "plt.xlim([0.0, 1.0])\n",
        "plt.ylim([0.0, 1.05])\n",
        "plt.xlabel('Taxa de Falsos Positivos')\n",
        "plt.ylabel('Taxa de Verdadeiros Positivos')\n",
        "plt.title('Curva ROC')\n",
        "plt.legend(loc=\"lower right\")\n",
        "plt.show()"
      ],
      "metadata": {
        "colab": {
          "base_uri": "https://localhost:8080/",
          "height": 472
        },
        "id": "XfhO7W0xaGdk",
        "outputId": "fc5c7548-40f8-45f8-8787-2fdf198a9a3b"
      },
      "execution_count": 40,
      "outputs": [
        {
          "output_type": "display_data",
          "data": {
            "text/plain": [
              "<Figure size 640x480 with 1 Axes>"
            ],
            "image/png": "[encoded data removed]"
          },
          "metadata": {}
        }
      ]
    },
    {
      "cell_type": "markdown",
      "source": [
        "### Desafio 7\n",
        "\n",
        "Obtenha a curva precisão x recall e a métrica AP dos modelos de classificação gerados, comparando as curvas no mesmo gráfico.\n",
        "\n",
        "*Como uma dica, vasculhe a documentação do `Scikit-learn` a partir deste [link](https://scikit-learn.org/stable/auto_examples/release_highlights/plot_release_highlights_0_22_0.html#new-plotting-api) e verifique uma forma de apresentar os resultados das curvas no mesmo gráfico usando o matplotlib*"
      ],
      "metadata": {
        "id": "MtAISYmrZ_VR"
      }
    },
    {
      "cell_type": "code",
      "source": [
        "import matplotlib.pyplot as plt\n",
        "from sklearn.metrics import precision_recall_curve, average_precision_score\n",
        "\n",
        "# Calcular a curva precisão x recall e a métrica AP para Decision Tree\n",
        "precision_dtc, recall_dtc, _ = precision_recall_curve(y_test, y_pred_proba_dtc)\n",
        "ap_dtc = average_precision_score(y_test, y_pred_proba_dtc)\n",
        "\n",
        "# Calcular a curva precisão x recall e a métrica AP para Random Forest\n",
        "precision_rfc, recall_rfc, _ = precision_recall_curve(y_test, y_pred_proba_rfc)\n",
        "ap_rfc = average_precision_score(y_test, y_pred_proba_rfc)\n",
        "\n",
        "# Plotar as curvas precisão x recall\n",
        "plt.figure()\n",
        "plt.plot(recall_dtc, precision_dtc, color='darkorange', lw=2, label='Decision Tree (AP = %0.2f)' % ap_dtc)\n",
        "plt.plot(recall_rfc, precision_rfc, color='darkgreen', lw=2, label='Random Forest (AP = %0.2f)' % ap_rfc)\n",
        "plt.xlabel('Recall')\n",
        "plt.ylabel('Precisão')\n",
        "plt.title('Curva Precisão x Recall')\n",
        "plt.legend(loc=\"lower left\")\n",
        "plt.show()"
      ],
      "metadata": {
        "colab": {
          "base_uri": "https://localhost:8080/",
          "height": 472
        },
        "id": "m5aWKgZ2aM4H",
        "outputId": "54843a1f-25d3-4733-bd52-95ac1739d2d9"
      },
      "execution_count": 41,
      "outputs": [
        {
          "output_type": "display_data",
          "data": {
            "text/plain": [
              "<Figure size 640x480 with 1 Axes>"
            ],
            "image/png": "[encoded data removed]"
          },
          "metadata": {}
        }
      ]
    },
    {
      "cell_type": "markdown",
      "source": [
        "### Desafio 8\n",
        "\n",
        "Gere os relatórios de métricas dos modelos de classificação gerados."
      ],
      "metadata": {
        "id": "QC-mYuowZ_YO"
      }
    },
    {
      "cell_type": "code",
      "source": [
        "# Relatório de classificação para Decision Tree\n",
        "print(\"Relatório de Classificação - Decision Tree:\")\n",
        "print(classification_report(y_test, y_pred_test_dtc))\n",
        "\n",
        "# Relatório de classificação para Random Forest\n",
        "print(\"\\nRelatório de Classificação - Random Forest:\")\n",
        "print(classification_report(y_test, y_pred_test_rfc))"
      ],
      "metadata": {
        "id": "AZIfQPpJZ3rG",
        "colab": {
          "base_uri": "https://localhost:8080/"
        },
        "outputId": "62c65af5-ea1b-457b-f227-72b501647727"
      },
      "execution_count": 42,
      "outputs": [
        {
          "output_type": "stream",
          "name": "stdout",
          "text": [
            "Relatório de Classificação - Decision Tree:\n",
            "              precision    recall  f1-score   support\n",
            "\n",
            "           0       0.79      0.77      0.78        71\n",
            "           1       0.45      0.46      0.46        28\n",
            "\n",
            "    accuracy                           0.69        99\n",
            "   macro avg       0.62      0.62      0.62        99\n",
            "weighted avg       0.69      0.69      0.69        99\n",
            "\n",
            "\n",
            "Relatório de Classificação - Random Forest:\n",
            "              precision    recall  f1-score   support\n",
            "\n",
            "           0       0.82      0.83      0.83        71\n",
            "           1       0.56      0.54      0.55        28\n",
            "\n",
            "    accuracy                           0.75        99\n",
            "   macro avg       0.69      0.68      0.69        99\n",
            "weighted avg       0.74      0.75      0.75        99\n",
            "\n"
          ]
        }
      ]
    },
    {
      "cell_type": "markdown",
      "source": [
        "### Desafio 9\n",
        "\n",
        "Crie uma função para calcular o intervalo de confiança dos resultados de uma validação cruzada com 2 desvios padrão. A função precisa ter um parâmetro para receber uma lista com os desempenhos da validação cruzada e outro para apresentar o nome do modelo utilizado na validação cruzada. Exemplo de retorno da função:\n",
        "\n",
        "> Intervalo de confiança (\"nome do modelo\"): [\"valor mínimo do intervalo\", \"valor máximo do intervalo\"]\n",
        "\n"
      ],
      "metadata": {
        "id": "_ksJQ1Ca9Alx"
      }
    },
    {
      "cell_type": "code",
      "source": [
        "import numpy as np\n",
        "\n",
        "def calcular_intervalo_confianca(desempenhos_cv, nome_modelo):\n",
        "  \"\"\"\n",
        "  Calcula o intervalo de confiança dos resultados de uma validação cruzada com 2 desvios padrão.\n",
        "\n",
        "  Args:\n",
        "    desempenhos_cv: Lista com os desempenhos da validação cruzada.\n",
        "    nome_modelo: Nome do modelo utilizado na validação cruzada.\n",
        "\n",
        "  Returns:\n",
        "    Uma lista com o valor mínimo e máximo do intervalo de confiança.\n",
        "  \"\"\"\n",
        "  media = np.mean(desempenhos_cv)\n",
        "  desvio_padrao = np.std(desempenhos_cv)\n",
        "  intervalo = [media - 2 * desvio_padrao, media + 2 * desvio_padrao]\n",
        "  print(f\"Intervalo de confiança ({nome_modelo}): {intervalo}\")\n",
        "  return intervalo"
      ],
      "metadata": {
        "id": "Bg7Uh6QyTyB5"
      },
      "execution_count": 43,
      "outputs": []
    },
    {
      "cell_type": "code",
      "source": [
        "# Exemplo de uso da função\n",
        "from sklearn.model_selection import cross_val_score\n",
        "\n",
        "# Suponha que 'desempenhos_cv' seja uma lista com os resultados da validação cruzada para o modelo Random Forest\n",
        "desempenhos_cv = cross_val_score(rfc, x, y, cv=5)\n",
        "\n",
        "# Chamando a função para calcular o intervalo de confiança\n",
        "calcular_intervalo_confianca(desempenhos_cv, \"Random Forest\")"
      ],
      "metadata": {
        "colab": {
          "base_uri": "https://localhost:8080/"
        },
        "id": "GQ_ldMa8aiVX",
        "outputId": "af829a83-38d5-4464-d9bd-eaffecbfe65d"
      },
      "execution_count": 44,
      "outputs": [
        {
          "output_type": "stream",
          "name": "stdout",
          "text": [
            "Intervalo de confiança (Random Forest): [0.6501878761214791, 0.7658458791527826]\n"
          ]
        },
        {
          "output_type": "execute_result",
          "data": {
            "text/plain": [
              "[0.6501878761214791, 0.7658458791527826]"
            ]
          },
          "metadata": {},
          "execution_count": 44
        }
      ]
    },
    {
      "cell_type": "markdown",
      "source": [
        "### Desafio 10\n",
        "\n",
        "Avalie o desempenho dos modelos com um intervalo de confiança utilizando a validação cruzada com o método [`KFold`](https://scikit-learn.org/stable/modules/generated/sklearn.model_selection.KFold.html), usando 10 partes e embaralhando os dados antes da separação. Use o método [`cross_val_score`](https://scikit-learn.org/stable/modules/generated/sklearn.model_selection.cross_val_score.html) que não retorna o tempo de execução, apenas as métricas."
      ],
      "metadata": {
        "id": "aA2RAJvGlCM1"
      }
    },
    {
      "cell_type": "code",
      "source": [
        "from sklearn.model_selection import KFold\n",
        "\n",
        "# Definindo o KFold com 10 partes e embaralhamento\n",
        "kfold = KFold(n_splits=10, shuffle=True, random_state=SEED)\n",
        "\n",
        "# Avaliando o modelo Decision Tree com cross_val_score\n",
        "scores_dtc = cross_val_score(dtc, x, y, cv=kfold)\n",
        "\n",
        "# Avaliando o modelo Random Forest com cross_val_score\n",
        "scores_rfc = cross_val_score(rfc, x, y, cv=kfold)\n",
        "\n",
        "# Calculando o intervalo de confiança para Decision Tree\n",
        "calcular_intervalo_confianca(scores_dtc, \"Decision Tree\")\n",
        "\n",
        "# Calculando o intervalo de confiança para Random Forest\n",
        "calcular_intervalo_confianca(scores_rfc, \"Random Forest\")\n"
      ],
      "metadata": {
        "id": "1jp9GpFwnR3i",
        "colab": {
          "base_uri": "https://localhost:8080/"
        },
        "outputId": "91da97b8-97eb-44a1-dd18-c14fb47ff81c"
      },
      "execution_count": 45,
      "outputs": [
        {
          "output_type": "stream",
          "name": "stdout",
          "text": [
            "Intervalo de confiança (Decision Tree): [0.5464410275573123, 0.7831743570580724]\n",
            "Intervalo de confiança (Random Forest): [0.5248642976561192, 0.8756485228567011]\n"
          ]
        },
        {
          "output_type": "execute_result",
          "data": {
            "text/plain": [
              "[0.5248642976561192, 0.8756485228567011]"
            ]
          },
          "metadata": {},
          "execution_count": 45
        }
      ]
    },
    {
      "cell_type": "markdown",
      "source": [
        "### Desafio 11\n",
        "\n",
        "Avalie o desempenho dos modelos com um intervalo de confiança utilizando a validação cruzada (`cross_val_score`) com o método [`StratifiedKFold`](https://scikit-learn.org/stable/modules/generated/sklearn.model_selection.StratifiedKFold.html#sklearn.model_selection.StratifiedKFold), usando 10 partes e embaralhando os dados antes da separação e avaliando a métrica F1-Score."
      ],
      "metadata": {
        "id": "FXHAOmL4lFBp"
      }
    },
    {
      "cell_type": "code",
      "source": [
        "from sklearn.model_selection import StratifiedKFold\n",
        "\n",
        "# Definindo o StratifiedKFold com 10 partes e embaralhamento\n",
        "skfold = StratifiedKFold(n_splits=10, shuffle=True, random_state=SEED)\n",
        "\n",
        "# Avaliando o modelo Decision Tree com cross_val_score e F1-Score\n",
        "scores_dtc_f1 = cross_val_score(dtc, x, y, cv=skfold, scoring='f1')\n",
        "\n",
        "# Avaliando o modelo Random Forest com cross_val_score e F1-Score\n",
        "scores_rfc_f1 = cross_val_score(rfc, x, y, cv=skfold, scoring='f1')\n",
        "\n",
        "# Calculando o intervalo de confiança para Decision Tree\n",
        "calcular_intervalo_confianca(scores_dtc_f1, \"Decision Tree (F1-Score)\")\n",
        "\n",
        "# Calculando o intervalo de confiança para Random Forest\n",
        "calcular_intervalo_confianca(scores_rfc_f1, \"Random Forest (F1-Score)\")"
      ],
      "metadata": {
        "id": "QeAunVFjnSOi",
        "colab": {
          "base_uri": "https://localhost:8080/"
        },
        "outputId": "a81b0ad6-2f7e-4450-d236-3d8fbf0161a6"
      },
      "execution_count": 46,
      "outputs": [
        {
          "output_type": "stream",
          "name": "stdout",
          "text": [
            "Intervalo de confiança (Decision Tree (F1-Score)): [0.2881395004852735, 0.7326978962876073]\n",
            "Intervalo de confiança (Random Forest (F1-Score)): [0.3530077519626331, 0.687017810236842]\n"
          ]
        },
        {
          "output_type": "execute_result",
          "data": {
            "text/plain": [
              "[0.3530077519626331, 0.687017810236842]"
            ]
          },
          "metadata": {},
          "execution_count": 46
        }
      ]
    },
    {
      "cell_type": "markdown",
      "source": [
        "### Desafio 12\n",
        "\n",
        "Avalie o desempenho dos modelos utilizando a validação cruzada (`cross_val_score`) com o método [`LeaveOneOut`](https://scikit-learn.org/stable/modules/generated/sklearn.model_selection.LeaveOneOut.html).\n",
        "\n",
        "O método LeaveOneOut vai gerar um modelo para cada uma das linhas da base de dados, portanto a lista de resultados terá taxa de acerto apenas de 0 ou 1 para cada modelo. Dessa forma, extraia apenas a média do resultado, sem utilizar o intervalo de confiança.\n"
      ],
      "metadata": {
        "id": "PffR585slFHS"
      }
    },
    {
      "cell_type": "code",
      "source": [
        "import numpy as np\n",
        "from sklearn.model_selection import LeaveOneOut\n",
        "\n",
        "# Definindo o LeaveOneOut\n",
        "loo = LeaveOneOut()\n",
        "\n",
        "# Avaliando o modelo Decision Tree com cross_val_score\n",
        "scores_dtc_loo = cross_val_score(dtc, x, y, cv=loo)\n",
        "\n",
        "# Avaliando o modelo Random Forest com cross_val_score\n",
        "scores_rfc_loo = cross_val_score(rfc, x, y, cv=loo)\n",
        "\n",
        "# Calculando a média dos scores\n",
        "mean_dtc_loo = np.mean(scores_dtc_loo)\n",
        "mean_rfc_loo = np.mean(scores_rfc_loo)\n",
        "\n",
        "print(f\"Média do desempenho Decision Tree (LeaveOneOut): {mean_dtc_loo}\")\n",
        "print(f\"Média do desempenho Random Forest (LeaveOneOut): {mean_rfc_loo}\")"
      ],
      "metadata": {
        "id": "2Fu1i0l9T2F5",
        "colab": {
          "base_uri": "https://localhost:8080/"
        },
        "outputId": "a7ae14fb-b686-4a8d-b33b-53016dfef255"
      },
      "execution_count": 47,
      "outputs": [
        {
          "output_type": "stream",
          "name": "stdout",
          "text": [
            "Média do desempenho Decision Tree (LeaveOneOut): 0.6345177664974619\n",
            "Média do desempenho Random Forest (LeaveOneOut): 0.7030456852791879\n"
          ]
        }
      ]
    },
    {
      "cell_type": "markdown",
      "source": [
        "### Desafio 13\n",
        "\n",
        "Verifique a proporção de dados da variável alvo do conjunto de dados de diabetes. Essa análise pode ser feita a partir da porcentagem de dados ou com a utilização de um gráfico de contagem para entender se há um desbalanceamento de dados."
      ],
      "metadata": {
        "id": "8H-XGS58Jo97"
      }
    },
    {
      "cell_type": "code",
      "source": [
        "import matplotlib.pyplot as plt\n",
        "\n",
        "# Verificando a proporção de dados da variável alvo\n",
        "print(df['diabetes'].value_counts(normalize=True) * 100)\n",
        "\n",
        "# Gráfico de contagem\n",
        "df['diabetes'].value_counts().plot(kind='bar')\n",
        "plt.title('Contagem de Classes')\n",
        "plt.xlabel('Diabetes')\n",
        "plt.ylabel('Quantidade')\n",
        "plt.show()"
      ],
      "metadata": {
        "id": "ymR1fC95T2l5",
        "colab": {
          "base_uri": "https://localhost:8080/",
          "height": 536
        },
        "outputId": "77bd1be3-7a78-4859-a096-7eed645d547e"
      },
      "execution_count": 48,
      "outputs": [
        {
          "output_type": "stream",
          "name": "stdout",
          "text": [
            "diabetes\n",
            "0    67.005076\n",
            "1    32.994924\n",
            "Name: proportion, dtype: float64\n"
          ]
        },
        {
          "output_type": "display_data",
          "data": {
            "text/plain": [
              "<Figure size 640x480 with 1 Axes>"
            ],
            "image/png": "[encoded data removed]"
          },
          "metadata": {}
        }
      ]
    },
    {
      "cell_type": "markdown",
      "source": [
        "### Desafio 14\n",
        "\n",
        "Utilize um [`pipeline`](https://imbalanced-learn.org/stable/references/generated/imblearn.pipeline.Pipeline.html) contendo ajuste do modelo e o balanceamento dos dados usando o oversampling com [`SMOTE`](https://imbalanced-learn.org/stable/references/generated/imblearn.over_sampling.SMOTE.html), obtendo a média do F1-Score de uma validação cruzada com `StratifiedKFold`."
      ],
      "metadata": {
        "id": "OMJ-IW4NJr4M"
      }
    },
    {
      "cell_type": "code",
      "source": [
        "import numpy as np\n",
        "from imblearn.over_sampling import SMOTE\n",
        "from imblearn.pipeline import Pipeline\n",
        "from sklearn.model_selection import StratifiedKFold\n",
        "from sklearn.model_selection import cross_val_score\n",
        "\n",
        "# Definindo o StratifiedKFold com 10 partes e embaralhamento\n",
        "skfold = StratifiedKFold(n_splits=10, shuffle=True, random_state=SEED)\n",
        "\n",
        "# Criando o pipeline para Random Forest com SMOTE\n",
        "pipeline_rfc = Pipeline([\n",
        "    ('smote', SMOTE(random_state=SEED)),\n",
        "    ('rfc', RandomForestClassifier(max_depth=5))\n",
        "])\n",
        "\n",
        "# Avaliando o modelo com cross_val_score e F1-Score\n",
        "scores_rfc_smote = cross_val_score(pipeline_rfc, x, y, cv=skfold, scoring='f1')\n",
        "\n",
        "# Calculando a média do F1-Score\n",
        "mean_rfc_smote = np.mean(scores_rfc_smote)\n",
        "\n",
        "print(f\"Média do F1-Score (Random Forest com SMOTE): {mean_rfc_smote}\")\n"
      ],
      "metadata": {
        "colab": {
          "base_uri": "https://localhost:8080/"
        },
        "id": "cfnk-KUrbDSS",
        "outputId": "b314400f-c223-4aa1-b818-92cd61f4ecee"
      },
      "execution_count": 49,
      "outputs": [
        {
          "output_type": "stream",
          "name": "stdout",
          "text": [
            "Média do F1-Score (Random Forest com SMOTE): 0.6111898588554022\n"
          ]
        }
      ]
    },
    {
      "cell_type": "markdown",
      "source": [
        "### Desafio 15\n",
        "\n",
        " Utilize um [`pipeline`](https://imbalanced-learn.org/stable/references/generated/imblearn.pipeline.Pipeline.html) contendo ajuste do modelo e o balanceamento dos dados usando o undersampling com [`Nearmiss`](https://imbalanced-learn.org/stable/references/generated/imblearn.over_sampling.SMOTE.html) na sua versão 3, obtendo a média do F1-Score de uma validação cruzada com `StratifiedKFold`."
      ],
      "metadata": {
        "id": "rSKJ6r9gJuq0"
      }
    },
    {
      "cell_type": "code",
      "source": [
        "import numpy as np\n",
        "from imblearn.under_sampling import NearMiss\n",
        "\n",
        "# Definindo o StratifiedKFold com 10 partes e embaralhamento\n",
        "skfold = StratifiedKFold(n_splits=10, shuffle=True, random_state=SEED)\n",
        "\n",
        "# Criando o pipeline para Random Forest com NearMiss versão 3\n",
        "pipeline_rfc_nearmiss = Pipeline([\n",
        "    ('nearmiss', NearMiss(version=3)),\n",
        "    ('rfc', RandomForestClassifier(max_depth=5))\n",
        "])\n",
        "\n",
        "# Avaliando o modelo com cross_val_score e F1-Score\n",
        "scores_rfc_nearmiss = cross_val_score(pipeline_rfc_nearmiss, x, y, cv=skfold, scoring='f1')\n",
        "\n",
        "# Calculando a média do F1-Score\n",
        "mean_rfc_nearmiss = np.mean(scores_rfc_nearmiss)\n",
        "\n",
        "print(f\"Média do F1-Score (Random Forest com NearMiss versão 3): {mean_rfc_nearmiss}\")"
      ],
      "metadata": {
        "id": "FA2DCsQbT5Go",
        "colab": {
          "base_uri": "https://localhost:8080/"
        },
        "outputId": "76ed86e7-379c-44b6-edff-d7197d7e6c68"
      },
      "execution_count": 50,
      "outputs": [
        {
          "output_type": "stream",
          "name": "stdout",
          "text": [
            "Média do F1-Score (Random Forest com NearMiss versão 3): 0.6028775475707524\n"
          ]
        }
      ]
    },
    {
      "cell_type": "markdown",
      "source": [
        "### Desafio 16\n",
        "\n",
        "Escolha o modelo que obteve o melhor desempenho ao comparar as estratégias de oversampling e undersampling e realize o teste do modelo nos dados de teste que foram separados no início dos desafios."
      ],
      "metadata": {
        "id": "6ZpXGQyPJwNl"
      }
    },
    {
      "cell_type": "code",
      "source": [
        "import pandas as pd\n",
        "import matplotlib.pyplot as plt\n",
        "from sklearn.metrics import accuracy_score, precision_score, recall_score, f1_score\n",
        "\n",
        "# Função para calcular as métricas e criar um dataframe\n",
        "def calcular_metricas(y_true, y_pred, model_name):\n",
        "    accuracy = accuracy_score(y_true, y_pred)\n",
        "    precision = precision_score(y_true, y_pred)\n",
        "    recall = recall_score(y_true, y_pred)\n",
        "    f1 = f1_score(y_true, y_pred)\n",
        "\n",
        "    data = {'Modelo': [model_name],\n",
        "            'Acurácia': [accuracy],\n",
        "            'Precisão': [precision],\n",
        "            'Recall': [recall],\n",
        "            'F1-Score': [f1]}\n",
        "    df_metrics = pd.DataFrame(data)\n",
        "    return df_metrics\n",
        "\n",
        "# Treina o modelo Decision Tree e avalia nos dados de teste\n",
        "dtc.fit(x_train, y_train)\n",
        "y_pred_test_dtc = dtc.predict(x_test)\n",
        "df_dtc = calcular_metricas(y_test, y_pred_test_dtc, 'Decision Tree')\n",
        "\n",
        "# Treina o modelo Random Forest e avalia nos dados de teste\n",
        "rfc.fit(x_train, y_train)\n",
        "y_pred_test_rfc = rfc.predict(x_test)\n",
        "df_rfc = calcular_metricas(y_test, y_pred_test_rfc, 'Random Forest')\n",
        "\n",
        "# Treina o modelo Random Forest com SMOTE e avalia nos dados de teste\n",
        "pipeline_rfc.fit(x_train, y_train)\n",
        "y_pred_test_rfc_smote = pipeline_rfc.predict(x_test)\n",
        "df_rfc_smote = calcular_metricas(y_test, y_pred_test_rfc_smote, 'Random Forest com SMOTE')\n",
        "\n",
        "# Treina o modelo Random Forest com NearMiss e avalia nos dados de teste\n",
        "pipeline_rfc_nearmiss.fit(x_train, y_train)\n",
        "y_pred_test_rfc_nearmiss = pipeline_rfc_nearmiss.predict(x_test)\n",
        "df_rfc_nearmiss = calcular_metricas(y_test, y_pred_test_rfc_nearmiss, 'Random Forest com NearMiss')\n",
        "\n",
        "# Concatenar os dataframes\n",
        "df_final = pd.concat([df_dtc, df_rfc, df_rfc_smote, df_rfc_nearmiss], ignore_index=True)\n",
        "\n",
        "# Exibir a tabela completa\n",
        "print(df_final)\n",
        "\n",
        "# Gráfico de barras para comparar as métricas\n",
        "df_final.plot(x='Modelo', y=['Acurácia', 'Precisão', 'Recall', 'F1-Score'], kind='bar', figsize=(10, 6))\n",
        "plt.title('Comparação de Desempenho dos Modelos')\n",
        "plt.ylabel('Valor da Métrica')\n",
        "plt.xticks(rotation=45)\n",
        "plt.legend(loc='upper left')\n",
        "plt.show()"
      ],
      "metadata": {
        "colab": {
          "base_uri": "https://localhost:8080/",
          "height": 793
        },
        "id": "6OCt-EQwbjvX",
        "outputId": "abfd1ec1-a490-494e-b7bf-6bb8c6ff86b6"
      },
      "execution_count": 54,
      "outputs": [
        {
          "output_type": "stream",
          "name": "stdout",
          "text": [
            "                       Modelo  Acurácia  Precisão    Recall  F1-Score\n",
            "0               Decision Tree  0.686869  0.448276  0.464286  0.456140\n",
            "1               Random Forest  0.727273  0.517241  0.535714  0.526316\n",
            "2     Random Forest com SMOTE  0.696970  0.476190  0.714286  0.571429\n",
            "3  Random Forest com NearMiss  0.696970  0.476190  0.714286  0.571429\n"
          ]
        },
        {
          "output_type": "display_data",
          "data": {
            "text/plain": [
              "<Figure size 1000x600 with 1 Axes>"
            ],
            "image/png": "[encoded data removed]"
          },
          "metadata": {}
        }
      ]
    },
    {
      "cell_type": "code",
      "source": [
        "# Com base nos resultados do Desafio 16, o modelo Random Forest com SMOTE parece ter o melhor desempenho geral.\n",
        "# Ele apresenta um bom equilíbrio entre as métricas de acurácia, precisão, recall e F1-Score.\n",
        "# Portanto, o modelo Random Forest com SMOTE é a melhor escolha para este conjunto de dados.\n",
        "\n",
        "# Avaliar o modelo Random Forest com SMOTE nos dados de teste\n",
        "y_pred_test_rfc_smote = pipeline_rfc.predict(x_test)\n",
        "\n",
        "# Calcular as métricas\n",
        "accuracy = accuracy_score(y_test, y_pred_test_rfc_smote)\n",
        "precision = precision_score(y_test, y_pred_test_rfc_smote)\n",
        "recall = recall_score(y_test, y_pred_test_rfc_smote)\n",
        "f1 = f1_score(y_test, y_pred_test_rfc_smote)\n",
        "\n",
        "# Imprimir as métricas\n",
        "print(f\"Acurácia SMOTE: {accuracy}\")\n",
        "print(f\"Precisão SMOTE: {precision}\")\n",
        "print(f\"Recall SMOTE: {recall}\")\n",
        "print(f\"F1-Score SMOTE: {f1}\")\n"
      ],
      "metadata": {
        "colab": {
          "base_uri": "https://localhost:8080/"
        },
        "id": "ptHqy0UobPpv",
        "outputId": "5e52ca3b-41c3-45dd-8c5a-008ac3494aee"
      },
      "execution_count": 58,
      "outputs": [
        {
          "output_type": "stream",
          "name": "stdout",
          "text": [
            "Acurácia SMOTE: 0.696969696969697\n",
            "Precisão SMOTE: 0.47619047619047616\n",
            "Recall SMOTE: 0.7142857142857143\n",
            "F1-Score SMOTE: 0.5714285714285714\n"
          ]
        }
      ]
    }
  ]
}